{
  "nbformat": 4,
  "nbformat_minor": 0,
  "metadata": {
    "colab": {
      "provenance": []
    },
    "kernelspec": {
      "name": "python3",
      "display_name": "Python 3"
    },
    "language_info": {
      "name": "python"
    }
  },
  "cells": [
    {
      "cell_type": "code",
      "execution_count": 3,
      "metadata": {
        "colab": {
          "base_uri": "https://localhost:8080/"
        },
        "id": "7_66IOisB8_7",
        "outputId": "499f9573-7459-4557-f919-6de36c71f7a4"
      },
      "outputs": [
        {
          "output_type": "stream",
          "name": "stdout",
          "text": [
            "aryan salge 34  34 years old\n"
          ]
        }
      ],
      "source": [
        "print(\"aryan salge \", 34, \"years old\")"
      ]
    },
    {
      "cell_type": "code",
      "source": [
        "\"\"\"this comment is\n",
        "extra vlueable\n",
        "\"\"\"\n",
        "print(\"he;llo\")"
      ],
      "metadata": {
        "colab": {
          "base_uri": "https://localhost:8080/"
        },
        "id": "_YedDdXQCCy7",
        "outputId": "8e5f2594-e2c7-4245-dcce-ccf612ae3dfa"
      },
      "execution_count": 2,
      "outputs": [
        {
          "output_type": "stream",
          "name": "stdout",
          "text": [
            "he;llo\n"
          ]
        }
      ]
    },
    {
      "cell_type": "code",
      "source": [
        "print(\"hello world\\npink pink\")"
      ],
      "metadata": {
        "colab": {
          "base_uri": "https://localhost:8080/"
        },
        "id": "u66e4R5nCKqE",
        "outputId": "1cb20ca6-cda7-4818-d383-32de22c4c6a5"
      },
      "execution_count": 5,
      "outputs": [
        {
          "output_type": "stream",
          "name": "stdout",
          "text": [
            "hello world\n",
            "pink pink\n"
          ]
        }
      ]
    },
    {
      "cell_type": "code",
      "source": [
        "name= \"aryan\"\n",
        "age=34\n",
        "print(name, age)\n",
        "print(f\"my name is {name}, my age is{age}\")"
      ],
      "metadata": {
        "colab": {
          "base_uri": "https://localhost:8080/"
        },
        "id": "3gjDbmwYCYww",
        "outputId": "208c6147-334c-457b-e51b-00987575c874"
      },
      "execution_count": 7,
      "outputs": [
        {
          "output_type": "stream",
          "name": "stdout",
          "text": [
            "aryan 34\n",
            "my name is aryan, my age is34\n"
          ]
        }
      ]
    },
    {
      "cell_type": "code",
      "source": [
        "a= 20\n",
        "b= 49"
      ],
      "metadata": {
        "id": "4iQpTMHOCjh6"
      },
      "execution_count": 9,
      "outputs": []
    },
    {
      "cell_type": "code",
      "source": [
        "a, b=b,a\n",
        "print(\"after swapping: a=\", a,\"b=\",b)"
      ],
      "metadata": {
        "colab": {
          "base_uri": "https://localhost:8080/"
        },
        "id": "x_K-IIa2CxRw",
        "outputId": "803790a8-85b6-4b93-fd53-797fad618d7f"
      },
      "execution_count": 12,
      "outputs": [
        {
          "output_type": "stream",
          "name": "stdout",
          "text": [
            "after swapping: a= 49 b= 20\n"
          ]
        }
      ]
    },
    {
      "cell_type": "code",
      "source": [
        "a=\"aryan\"\n",
        "b=45\n",
        "c=34.55\n",
        "d=True\n",
        "x = complex('3+5j')\n",
        "print(type(x))\n",
        "print(type(d))"
      ],
      "metadata": {
        "colab": {
          "base_uri": "https://localhost:8080/"
        },
        "id": "Op7c7uP-DBBS",
        "outputId": "2d6a9349-db35-4428-c563-0d965dea07d9"
      },
      "execution_count": 21,
      "outputs": [
        {
          "output_type": "stream",
          "name": "stdout",
          "text": [
            "<class 'complex'>\n",
            "<class 'bool'>\n"
          ]
        }
      ]
    },
    {
      "cell_type": "code",
      "source": [
        "user=(input(\"whats ur city\"))\n",
        "print(f\"your city {user} is beautiful\")"
      ],
      "metadata": {
        "colab": {
          "base_uri": "https://localhost:8080/"
        },
        "id": "lkf5sSjhDXWn",
        "outputId": "3cf310be-51ed-4501-b462-e3e31b22f38b"
      },
      "execution_count": 24,
      "outputs": [
        {
          "output_type": "stream",
          "name": "stdout",
          "text": [
            "whats ur citypink\n",
            "your city pink is beautiful\n"
          ]
        }
      ]
    },
    {
      "cell_type": "code",
      "source": [
        "x,y,z=1,2,3\n",
        "print(x,y,z)"
      ],
      "metadata": {
        "colab": {
          "base_uri": "https://localhost:8080/"
        },
        "id": "ORsGHnfUENW5",
        "outputId": "240520f0-7092-43ca-f7bc-c696a0f31bda"
      },
      "execution_count": 25,
      "outputs": [
        {
          "output_type": "stream",
          "name": "stdout",
          "text": [
            "1 2 3\n"
          ]
        }
      ]
    },
    {
      "cell_type": "code",
      "source": [
        "a=-3\n",
        "b= 3.6\n",
        "print(float(a))"
      ],
      "metadata": {
        "colab": {
          "base_uri": "https://localhost:8080/"
        },
        "id": "-9O5qrdkE-BE",
        "outputId": "692cf17c-cafc-4fce-85f7-14ca18256dc2"
      },
      "execution_count": 27,
      "outputs": [
        {
          "output_type": "stream",
          "name": "stdout",
          "text": [
            "-3.0\n"
          ]
        }
      ]
    },
    {
      "cell_type": "code",
      "source": [
        "c= complex(3,4)\n",
        "print(\"reakl\", c.real)\n",
        "print(\"img\", c.imag)"
      ],
      "metadata": {
        "colab": {
          "base_uri": "https://localhost:8080/"
        },
        "id": "gXDJQ1g9GvWi",
        "outputId": "ed31d0cd-b1b0-4129-ea09-9ce1e96f0769"
      },
      "execution_count": 41,
      "outputs": [
        {
          "output_type": "stream",
          "name": "stdout",
          "text": [
            "reakl 3.0\n",
            "img 4.0\n"
          ]
        }
      ]
    },
    {
      "cell_type": "code",
      "source": [
        "c=[\"ar\",\"ry\",\"ta\",\"cg\"]\n",
        "tu=(4,5,6,35,6)"
      ],
      "metadata": {
        "id": "NymJoIFHHpDo"
      },
      "execution_count": 44,
      "outputs": []
    },
    {
      "cell_type": "code",
      "source": [
        "c[2]=\"app\""
      ],
      "metadata": {
        "id": "uJgEt1QRH-yg"
      },
      "execution_count": 46,
      "outputs": []
    },
    {
      "cell_type": "code",
      "source": [
        "tu[0]=56"
      ],
      "metadata": {
        "colab": {
          "base_uri": "https://localhost:8080/",
          "height": 176
        },
        "id": "668m-S_LIL7e",
        "outputId": "6152b5ef-42d7-4027-ef84-2d7b424e6665"
      },
      "execution_count": 48,
      "outputs": [
        {
          "output_type": "error",
          "ename": "TypeError",
          "evalue": "'tuple' object does not support item assignment",
          "traceback": [
            "\u001b[0;31m---------------------------------------------------------------------------\u001b[0m",
            "\u001b[0;31mTypeError\u001b[0m                                 Traceback (most recent call last)",
            "\u001b[0;32m/tmp/ipython-input-48-2575621184.py\u001b[0m in \u001b[0;36m<cell line: 0>\u001b[0;34m()\u001b[0m\n\u001b[0;32m----> 1\u001b[0;31m \u001b[0mtu\u001b[0m\u001b[0;34m[\u001b[0m\u001b[0;36m0\u001b[0m\u001b[0;34m]\u001b[0m\u001b[0;34m=\u001b[0m\u001b[0;36m56\u001b[0m\u001b[0;34m\u001b[0m\u001b[0;34m\u001b[0m\u001b[0m\n\u001b[0m",
            "\u001b[0;31mTypeError\u001b[0m: 'tuple' object does not support item assignment"
          ]
        }
      ]
    },
    {
      "cell_type": "code",
      "source": [],
      "metadata": {
        "id": "OBxD-spGISuC"
      },
      "execution_count": null,
      "outputs": []
    }
  ]
}