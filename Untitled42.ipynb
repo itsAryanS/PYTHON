{
  "nbformat": 4,
  "nbformat_minor": 0,
  "metadata": {
    "colab": {
      "provenance": []
    },
    "kernelspec": {
      "name": "python3",
      "display_name": "Python 3"
    },
    "language_info": {
      "name": "python"
    }
  },
  "cells": [
    {
      "cell_type": "code",
      "execution_count": 1,
      "metadata": {
        "id": "aPL61TKCfyS7"
      },
      "outputs": [],
      "source": [
        "import sys"
      ]
    },
    {
      "cell_type": "code",
      "source": [
        "print(\"heello world\", sys.version)"
      ],
      "metadata": {
        "colab": {
          "base_uri": "https://localhost:8080/"
        },
        "id": "Z_5ID_oLf0FW",
        "outputId": "14d7a46a-1ff1-42ec-fb0e-9203eddc21a7"
      },
      "execution_count": 3,
      "outputs": [
        {
          "output_type": "stream",
          "name": "stdout",
          "text": [
            "heello world 3.11.13 (main, Jun  4 2025, 08:57:29) [GCC 11.4.0]\n"
          ]
        }
      ]
    },
    {
      "cell_type": "code",
      "source": [
        "!pip install pandas"
      ],
      "metadata": {
        "colab": {
          "base_uri": "https://localhost:8080/"
        },
        "id": "UMo8Pdhyf5ot",
        "outputId": "1fec3805-7d9a-4a89-f03f-de70b47c8b11"
      },
      "execution_count": 4,
      "outputs": [
        {
          "output_type": "stream",
          "name": "stdout",
          "text": [
            "Requirement already satisfied: pandas in /usr/local/lib/python3.11/dist-packages (2.2.2)\n",
            "Requirement already satisfied: numpy>=1.23.2 in /usr/local/lib/python3.11/dist-packages (from pandas) (2.0.2)\n",
            "Requirement already satisfied: python-dateutil>=2.8.2 in /usr/local/lib/python3.11/dist-packages (from pandas) (2.9.0.post0)\n",
            "Requirement already satisfied: pytz>=2020.1 in /usr/local/lib/python3.11/dist-packages (from pandas) (2025.2)\n",
            "Requirement already satisfied: tzdata>=2022.7 in /usr/local/lib/python3.11/dist-packages (from pandas) (2025.2)\n",
            "Requirement already satisfied: six>=1.5 in /usr/local/lib/python3.11/dist-packages (from python-dateutil>=2.8.2->pandas) (1.17.0)\n"
          ]
        }
      ]
    },
    {
      "cell_type": "code",
      "source": [
        "import pandas as pd"
      ],
      "metadata": {
        "id": "rZ1NrY_vgHZf"
      },
      "execution_count": 6,
      "outputs": []
    },
    {
      "cell_type": "code",
      "source": [
        "print(pd.__version__)"
      ],
      "metadata": {
        "colab": {
          "base_uri": "https://localhost:8080/"
        },
        "id": "YmJ9x8SJgCEb",
        "outputId": "ab298ef3-2a72-44ce-ce84-88b8d78a154d"
      },
      "execution_count": 11,
      "outputs": [
        {
          "output_type": "stream",
          "name": "stdout",
          "text": [
            "2.2.2\n"
          ]
        }
      ]
    },
    {
      "cell_type": "code",
      "source": [
        "name=input(\"enter your name: \")\n",
        "print(f\"welcome {name} happy learning\")"
      ],
      "metadata": {
        "colab": {
          "base_uri": "https://localhost:8080/"
        },
        "id": "ZcfjsYc8gE16",
        "outputId": "4c656ff0-7e58-4ef6-fec2-ab339f545435"
      },
      "execution_count": 13,
      "outputs": [
        {
          "output_type": "stream",
          "name": "stdout",
          "text": [
            "enter your name: aryan\n",
            "welcome aryan happy learning\n"
          ]
        }
      ]
    },
    {
      "cell_type": "code",
      "source": [
        "for i in range(1,6):\n",
        "  print(\"*\" * i)"
      ],
      "metadata": {
        "colab": {
          "base_uri": "https://localhost:8080/"
        },
        "id": "2jJuHyb0gqki",
        "outputId": "2570d16b-370f-453b-ba08-885933268a9e"
      },
      "execution_count": 14,
      "outputs": [
        {
          "output_type": "stream",
          "name": "stdout",
          "text": [
            "*\n",
            "**\n",
            "***\n",
            "****\n",
            "*****\n"
          ]
        }
      ]
    },
    {
      "cell_type": "code",
      "source": [
        "a = float(input(\"enter num 1: \"))\n",
        "b= float(input(\"enter num 2: \"))\n",
        "\n",
        "print(\"sum\", a+b)\n",
        "print(\"diff\", a-b)\n",
        "print(\"mult\", a*b)\n",
        "\n",
        "if a!= 0:\n",
        "  print(\"quotient\", a/b)\n",
        "else:\n",
        "  print(\"cannot divide by zero\")"
      ],
      "metadata": {
        "colab": {
          "base_uri": "https://localhost:8080/"
        },
        "id": "wvRSH7gQhE_9",
        "outputId": "1cc902d5-bcbb-4914-c049-2ae869967ef0"
      },
      "execution_count": 16,
      "outputs": [
        {
          "output_type": "stream",
          "name": "stdout",
          "text": [
            "enter num 1: 0\n",
            "enter num 2: 8\n",
            "sum 8.0\n",
            "diff -8.0\n",
            "mult 0.0\n",
            "cannot divide by zero\n"
          ]
        }
      ]
    },
    {
      "cell_type": "code",
      "source": [
        "filename=(input(\"enter file name: \"))\n",
        "ext=filename.split(\".\")[-1]\n",
        "print(ext)"
      ],
      "metadata": {
        "colab": {
          "base_uri": "https://localhost:8080/"
        },
        "id": "99_NNjq_hzyw",
        "outputId": "851502a0-f331-4bef-de4c-7ec379bb3dc4"
      },
      "execution_count": 18,
      "outputs": [
        {
          "output_type": "stream",
          "name": "stdout",
          "text": [
            "enter file name: fg.cvb\n",
            "cvb\n"
          ]
        }
      ]
    },
    {
      "cell_type": "code",
      "source": [
        "nums=[float(input(\"enter num: \")) for _ in range(3)]\n",
        "print(\"largest: \", max(nums))\n",
        "print(\"smallest: \", min(nums))"
      ],
      "metadata": {
        "colab": {
          "base_uri": "https://localhost:8080/"
        },
        "id": "vl8k-7CQiRaz",
        "outputId": "46de17a7-b6f7-4a6e-c25a-59e001a64e3d"
      },
      "execution_count": 20,
      "outputs": [
        {
          "output_type": "stream",
          "name": "stdout",
          "text": [
            "enter num: 9\n",
            "enter num: 7\n",
            "enter num: 7\n",
            "largest:  9.0\n",
            "smallest:  7.0\n"
          ]
        }
      ]
    },
    {
      "cell_type": "code",
      "source": [
        "nums=print(input(\"enter a num: \"))\n",
        "nums=[float(input(\"enter a num: \")) for _ in range(5)]\n",
        "print(\"largest\",max(nums))"
      ],
      "metadata": {
        "colab": {
          "base_uri": "https://localhost:8080/"
        },
        "id": "2tRCSDmKi1av",
        "outputId": "5e6af3cf-34a5-46ce-d09b-fdd463cb1f9d"
      },
      "execution_count": 21,
      "outputs": [
        {
          "output_type": "stream",
          "name": "stdout",
          "text": [
            "enter a num: ^\n",
            "^\n",
            "enter a num: 7\n",
            "enter a num: 4\n",
            "enter a num: 6\n",
            "enter a num: 3\n",
            "enter a num: 5\n",
            "largest 7.0\n"
          ]
        }
      ]
    },
    {
      "cell_type": "code",
      "source": [
        "sentence = input(\"enter  a sent: \")\n",
        "words=sentence.split(\",\")\n",
        "print(\"number of words: \", len(words))"
      ],
      "metadata": {
        "colab": {
          "base_uri": "https://localhost:8080/"
        },
        "id": "rEIKfVcojT8M",
        "outputId": "07501581-f096-4cd4-878d-e21da68bb090"
      },
      "execution_count": 26,
      "outputs": [
        {
          "output_type": "stream",
          "name": "stdout",
          "text": [
            "enter  a sent: bhbh ububnun ,niu\n",
            "number of words:  2\n"
          ]
        }
      ]
    },
    {
      "cell_type": "code",
      "source": [
        "for i in range (1,51):\n",
        "  if i%5 ==0:\n",
        "    continue\n",
        "  print(i, end=\" \")"
      ],
      "metadata": {
        "colab": {
          "base_uri": "https://localhost:8080/"
        },
        "id": "lgBun1-njlPW",
        "outputId": "b9a920d4-1ac0-4e94-c31c-b0dd4192a5be"
      },
      "execution_count": 30,
      "outputs": [
        {
          "output_type": "stream",
          "name": "stdout",
          "text": [
            "1 2 3 4 6 7 8 9 11 12 13 14 16 17 18 19 21 22 23 24 26 27 28 29 31 32 33 34 36 37 38 39 41 42 43 44 46 47 48 49 "
          ]
        }
      ]
    },
    {
      "cell_type": "code",
      "source": [
        "num = int(input(\"enter a  num: \"))\n",
        "if num %2==0:\n",
        "  print(\"even\")\n",
        "else:\n",
        "  print(\"odd\")"
      ],
      "metadata": {
        "colab": {
          "base_uri": "https://localhost:8080/"
        },
        "id": "xQTVdAkqj_kU",
        "outputId": "29be3b62-fc5e-4de5-bbc0-58b148e948af"
      },
      "execution_count": 31,
      "outputs": [
        {
          "output_type": "stream",
          "name": "stdout",
          "text": [
            "enter a  num: 7457\n",
            "odd\n"
          ]
        }
      ]
    },
    {
      "cell_type": "code",
      "source": [
        "year = int (input(\"enter a year: \"))\n",
        "if (year%4==0 and year % 100 != 0) or (year % 400==0):\n",
        "  print(\"leap year\")\n",
        "else:\n",
        "  print(\"not one\")"
      ],
      "metadata": {
        "colab": {
          "base_uri": "https://localhost:8080/"
        },
        "id": "vDzYcbLikrJQ",
        "outputId": "27845f02-d153-4e7f-8d68-654a34c97b1f"
      },
      "execution_count": 38,
      "outputs": [
        {
          "output_type": "stream",
          "name": "stdout",
          "text": [
            "enter a year: 2024\n",
            "leap year\n"
          ]
        }
      ]
    },
    {
      "cell_type": "code",
      "source": [
        "c= float(input(\"enter a temp: \"))\n",
        "f=(c*9/5)+32\n",
        "print(\"temp in f is : \",f)"
      ],
      "metadata": {
        "colab": {
          "base_uri": "https://localhost:8080/"
        },
        "id": "pXV0nsCxlQoN",
        "outputId": "18563a69-1478-41e0-f969-588892b52842"
      },
      "execution_count": 41,
      "outputs": [
        {
          "output_type": "stream",
          "name": "stdout",
          "text": [
            "enter a temp: 0\n",
            "temp in f is :  32.0\n"
          ]
        }
      ]
    },
    {
      "cell_type": "code",
      "source": [],
      "metadata": {
        "id": "7mxlBEa6lpOs"
      },
      "execution_count": null,
      "outputs": []
    }
  ]
}